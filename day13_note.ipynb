{
 "cells": [
  {
   "cell_type": "markdown",
   "metadata": {},
   "source": [
    "### Welcome to day 13 of 30 days python series \n",
    "\n",
    "- Date \n",
    "- Time\n",
    "- Formatting Time\n",
    "- Formating Date"
   ]
  },
  {
   "cell_type": "markdown",
   "metadata": {},
   "source": [
    "1. Current Date and Time\n",
    "- Write a program that prints the current date and time in the format YYYY-MM-DD HH:MM:SS."
   ]
  },
  {
   "cell_type": "code",
   "execution_count": null,
   "metadata": {},
   "outputs": [],
   "source": []
  },
  {
   "cell_type": "markdown",
   "metadata": {},
   "source": [
    "2. Date Formatting\n",
    "- Create a function that takes a date in the format YYYY-MM-DD and returns it formatted as DD/MM/YYYY."
   ]
  },
  {
   "cell_type": "markdown",
   "metadata": {},
   "source": []
  },
  {
   "cell_type": "markdown",
   "metadata": {},
   "source": [
    "3. Calculating Age\n",
    "- Write a program that takes a user's birth date as input and calculates their age in years."
   ]
  },
  {
   "cell_type": "code",
   "execution_count": null,
   "metadata": {},
   "outputs": [],
   "source": []
  },
  {
   "cell_type": "markdown",
   "metadata": {},
   "source": [
    "Time Difference\n",
    "- Create a function that takes two datetime strings (in the format YYYY-MM-DD HH:MM:SS) and returns the difference in days, hours, and minutes."
   ]
  },
  {
   "cell_type": "markdown",
   "metadata": {},
   "source": [
    "Leap Year Checker\n",
    "- Create a function that checks if a given year is a leap year or not."
   ]
  },
  {
   "cell_type": "markdown",
   "metadata": {},
   "source": [
    "Birthday Countdown\n",
    "- Create a program that takes a future birthday date as input and calculates how many days are left until that birthday."
   ]
  },
  {
   "cell_type": "markdown",
   "metadata": {},
   "source": [
    "Weekday Name\n",
    "- Write a function that takes a date as input and returns the name of the day of the week (e.g., Monday, Tuesday)."
   ]
  },
  {
   "cell_type": "code",
   "execution_count": null,
   "metadata": {},
   "outputs": [],
   "source": [
    "import csv\n",
    "from datetime import datetime\n",
    "\n",
    "# Load the CSV data\n",
    "with open('dates.csv', mode='r') as file:\n",
    "    reader = csv.DictReader(file)\n",
    "    \n",
    "    # Prepare a list to store transformed data\n",
    "    transformed_data = []\n",
    "\n",
    "    for row in reader:\n",
    "        date_str = row['date']\n",
    "        date_obj = datetime.strptime(date_str, '%Y-%m-%d')\n",
    "\n",
    "        # Perform transformations\n",
    "        day_name = date_obj.strftime('%A')  # Day name\n",
    "        month_name = date_obj.strftime('%B')  # Month name\n",
    "        year = date_obj.year  # Year\n",
    "\n",
    "        # Append transformed data to the list\n",
    "        transformed_data.append({\n",
    "            'id': row['id'],\n",
    "            'date': date_str,\n",
    "            'day_name': day_name,\n",
    "            'month_name': month_name,\n",
    "            'year': year\n",
    "        })\n",
    "\n",
    "# Print the transformed data\n",
    "for data in transformed_data:\n",
    "    print(data)\n"
   ]
  }
 ],
 "metadata": {
  "language_info": {
   "name": "python"
  }
 },
 "nbformat": 4,
 "nbformat_minor": 2
}

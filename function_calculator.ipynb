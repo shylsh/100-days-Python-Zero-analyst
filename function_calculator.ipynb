{
 "cells": [
  {
   "cell_type": "markdown",
   "metadata": {},
   "source": [
    "Mini Projects:\n",
    "Project 1: Simple Calculator\n",
    "Create a function-based calculator that can perform basic operations like addition, subtraction, multiplication, and division. The user will enter two numbers and the operation (as a string, e.g., 'add', 'multiply'). Based on the input, call different functions to perform the operation and return the result."
   ]
  },
  {
   "cell_type": "code",
   "execution_count": 2,
   "metadata": {},
   "outputs": [],
   "source": [
    "#add = +\n",
    "# sub = -\n",
    "# mul = *\n",
    "# div = /  \n",
    "\n",
    "def add_num(num1, num2):\n",
    "    return num1 + num2\n",
    "\n",
    "def sub_num(num1, num2):\n",
    "    return num1 - num2 \n",
    "\n",
    "def mul_num(num1, num2):\n",
    "    return num1 * num2\n",
    "\n",
    "def div_num(num1, num2):\n",
    "    return num1 / num2  \n",
    "\n",
    "def calculator(num1, num2, operator):\n",
    "    if operator == \"+\":\n",
    "        return add_num(num1, num2)\n",
    "    elif operator == \"-\":    \n",
    "        return sub_num(num1, num2)\n",
    "    elif operator == \"*\":\n",
    "        return mul_num(num1, num2)    \n",
    "    elif operator == \"/\":\n",
    "        return div_num(num1, num2)"
   ]
  },
  {
   "cell_type": "code",
   "execution_count": 3,
   "metadata": {},
   "outputs": [
    {
     "data": {
      "text/plain": [
       "5"
      ]
     },
     "execution_count": 3,
     "metadata": {},
     "output_type": "execute_result"
    }
   ],
   "source": [
    "calculator(2, 3, \"+\")"
   ]
  }
 ],
 "metadata": {
  "kernelspec": {
   "display_name": "base",
   "language": "python",
   "name": "python3"
  },
  "language_info": {
   "codemirror_mode": {
    "name": "ipython",
    "version": 3
   },
   "file_extension": ".py",
   "mimetype": "text/x-python",
   "name": "python",
   "nbconvert_exporter": "python",
   "pygments_lexer": "ipython3",
   "version": "3.10.13"
  }
 },
 "nbformat": 4,
 "nbformat_minor": 2
}

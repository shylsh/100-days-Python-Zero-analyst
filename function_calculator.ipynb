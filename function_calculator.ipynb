{
 "cells": [
  {
   "cell_type": "markdown",
   "metadata": {},
   "source": [
    "Mini Projects:\n",
    "Project 1: Simple Calculator\n",
    "Create a function-based calculator that can perform basic operations like addition, subtraction, multiplication, and division. The user will enter two numbers and the operation (as a string, e.g., 'add', 'multiply'). Based on the input, call different functions to perform the operation and return the result."
   ]
  },
  {
   "cell_type": "code",
   "execution_count": 4,
   "metadata": {},
   "outputs": [],
   "source": [
    "#add = +\n",
    "# sub = -\n",
    "# mul = *\n",
    "# div = /  \n",
    "\n",
    "def add_num(num1, num2):\n",
    "    return num1 + num2\n",
    "\n",
    "def sub_num(num1, num2):\n",
    "    return num1 - num2 \n",
    "\n",
    "def mul_num(num1, num2):\n",
    "    return num1 * num2\n",
    "\n",
    "def div_num(num1, num2):\n",
    "    return num1 / num2  \n",
    "\n",
    "def calculator(num1, num2, operator):\n",
    "    if operator == \"+\":\n",
    "        return add_num(num1, num2)\n",
    "    elif operator == \"-\":    \n",
    "        return sub_num(num1, num2)\n",
    "    elif operator == \"*\":\n",
    "        return mul_num(num1, num2)    \n",
    "    elif operator == \"/\":\n",
    "        return div_num(num1, num2)\n",
    "    else:\n",
    "        return \"Invalid operator\""
   ]
  },
  {
   "cell_type": "code",
   "execution_count": 8,
   "metadata": {},
   "outputs": [
    {
     "name": "stdout",
     "output_type": "stream",
     "text": [
      "The result of 5/6: 0.8333333333333334\n"
     ]
    }
   ],
   "source": [
    "#execution of this application\n",
    "\n",
    "if __name__ == \"__main__\":\n",
    "    num1 = int(input(\"Enter the first number: \"))\n",
    "    num2 = int(input(\"Enter the second number: \"))\n",
    "    operator = input(\"Enter the operator: \")\n",
    "    result = calculator(num1, num2, operator)\n",
    "    print(f\"The result of {num1}{operator}{num2}:\", result)"
   ]
  },
  {
   "cell_type": "code",
   "execution_count": 6,
   "metadata": {},
   "outputs": [
    {
     "data": {
      "text/plain": [
       "0.6666666666666666"
      ]
     },
     "execution_count": 6,
     "metadata": {},
     "output_type": "execute_result"
    }
   ],
   "source": [
    "calculator(2, 3, \"/\")"
   ]
  }
 ],
 "metadata": {
  "kernelspec": {
   "display_name": "base",
   "language": "python",
   "name": "python3"
  },
  "language_info": {
   "codemirror_mode": {
    "name": "ipython",
    "version": 3
   },
   "file_extension": ".py",
   "mimetype": "text/x-python",
   "name": "python",
   "nbconvert_exporter": "python",
   "pygments_lexer": "ipython3",
   "version": "3.10.13"
  }
 },
 "nbformat": 4,
 "nbformat_minor": 2
}
